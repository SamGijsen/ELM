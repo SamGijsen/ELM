{
 "cells": [
  {
   "cell_type": "code",
   "execution_count": 5,
   "metadata": {},
   "outputs": [
    {
     "name": "stdout",
     "output_type": "stream",
     "text": [
      "Representation shape from encoder: torch.Size([4, 96])\n",
      "Projected representation shape from encoder: torch.Size([4, 256])\n"
     ]
    }
   ],
   "source": [
    "import torch\n",
    "import yaml\n",
    "from models.models import EEG_ResNet\n",
    "\n",
    "device = torch.device(\"cuda\" if torch.cuda.is_available() else \"cpu\")\n",
    "\n",
    "config_path = 'pretrained/5s/config_xy.yaml'\n",
    "weights_path = 'pretrained/5s/model_0_checkpoint.pt'\n",
    "\n",
    "with open(config_path, 'r') as file:\n",
    "    config = yaml.safe_load(file)\n",
    "\n",
    "mp = config[\"model\"]\n",
    "encoder = EEG_ResNet(\n",
    "    in_channels=mp[\"in_channels\"],\n",
    "    conv1_params=mp[\"encoder_conv1_params\"],\n",
    "    n_blocks=mp[\"encoder_blocks\"],\n",
    "    res_params=mp[\"encoder_res_params\"],\n",
    "    res_pool_size=mp[\"encoder_pool_size\"],\n",
    "    dropout_p=mp[\"encoder_dropout_p\"],\n",
    "    res_dropout_p=mp[\"res_dropout_p\"],\n",
    "    proj_size=mp[\"ELM\"][\"eeg_proj_size\"]\n",
    ").to(device)\n",
    "\n",
    "DDP = config[\"training\"][\"DDP\"]\n",
    "state_dict = torch.load(weights_path, map_location=device)\n",
    "    \n",
    "if DDP:\n",
    "    new_state_dict = {}\n",
    "    for key, value in state_dict.items():\n",
    "        new_key = \"module.\" + key\n",
    "        new_state_dict[new_key] = value\n",
    "    state_dict = new_state_dict\n",
    "encoder.load_state_dict(state_dict)\n",
    "\n",
    "encoder.eval()\n",
    "\n",
    "batch_size = 4\n",
    "n_channels = mp[\"in_channels\"]\n",
    "n_time_samples = mp[\"n_time_samples\"]\n",
    "\n",
    "synth_data = torch.randn(batch_size, n_channels, n_time_samples, device=device)\n",
    "\n",
    "with torch.no_grad():\n",
    "    emb, proj_emb = encoder(synth_data)\n",
    "        \n",
    "print(f\"Representation shape from encoder: {emb.shape}\")\n",
    "print(f\"Projected representation shape from encoder: {proj_emb.shape}\")\n"
   ]
  }
 ],
 "metadata": {
  "kernelspec": {
   "display_name": "torch",
   "language": "python",
   "name": "python3"
  },
  "language_info": {
   "codemirror_mode": {
    "name": "ipython",
    "version": 3
   },
   "file_extension": ".py",
   "mimetype": "text/x-python",
   "name": "python",
   "nbconvert_exporter": "python",
   "pygments_lexer": "ipython3",
   "version": "3.10.9"
  }
 },
 "nbformat": 4,
 "nbformat_minor": 2
}
